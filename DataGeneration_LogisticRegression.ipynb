{
  "nbformat": 4,
  "nbformat_minor": 0,
  "metadata": {
    "colab": {
      "provenance": []
    },
    "kernelspec": {
      "name": "python3",
      "display_name": "Python 3"
    },
    "language_info": {
      "name": "python"
    }
  },
  "cells": [
    {
      "cell_type": "code",
      "execution_count": null,
      "metadata": {
        "colab": {
          "base_uri": "https://localhost:8080/"
        },
        "id": "g2jnon5S1L5n",
        "outputId": "84d4edd8-7a2c-4baf-d16b-dae23e9c3cf6"
      },
      "outputs": [
        {
          "output_type": "stream",
          "name": "stdout",
          "text": [
            "Requirement already satisfied: pillow in /usr/local/lib/python3.10/dist-packages (9.4.0)\n"
          ]
        }
      ],
      "source": [
        "!pip install pillow\n",
        "import os\n",
        "import random\n",
        "from PIL import Image, ImageDraw, ImageFont\n",
        "import pandas as pd\n",
        "from sklearn.model_selection import train_test_split"
      ]
    },
    {
      "cell_type": "code",
      "source": [
        "from google.colab import drive\n",
        "drive.mount(\"/content/drive/\")"
      ],
      "metadata": {
        "colab": {
          "base_uri": "https://localhost:8080/"
        },
        "id": "lommoQWrZe0f",
        "outputId": "bf18ce88-9727-4116-8c37-b8f4461212e3"
      },
      "execution_count": null,
      "outputs": [
        {
          "output_type": "stream",
          "name": "stdout",
          "text": [
            "Drive already mounted at /content/drive/; to attempt to forcibly remount, call drive.mount(\"/content/drive/\", force_remount=True).\n"
          ]
        }
      ]
    },
    {
      "cell_type": "code",
      "source": [
        "# Define directories to save synthetic images\n",
        "text_dir = \"/content/drive/MyDrive/ImageData/text\"\n",
        "no_text_dir = \"/content/drive/MyDrive/ImageData/no_text\"\n",
        "\n",
        "os.makedirs(text_dir, exist_ok=True)\n",
        "os.makedirs(no_text_dir, exist_ok=True)\n",
        "\n",
        "def create_image_with_text(width=128, height=128, text=\"Sample Text\"):\n",
        "    image = Image.new('RGB', (width, height), color=(random.randint(0, 255), random.randint(0, 255), random.randint(0, 255)))\n",
        "    draw = ImageDraw.Draw(image)\n",
        "    font = ImageFont.load_default()\n",
        "    text_width, text_height = draw.textbbox((0, 0), text, font=font)[2:4]\n",
        "    position = ((width - text_width) // 2, (height - text_height) // 2)\n",
        "    draw.text(position, text, fill=(random.randint(0, 255), random.randint(0, 255), random.randint(0, 255)), font=font)\n",
        "    return image\n"
      ],
      "metadata": {
        "id": "C1icDMDk1r1L"
      },
      "execution_count": null,
      "outputs": []
    },
    {
      "cell_type": "code",
      "source": [
        "def create_image_without_text(width=128, height=128):\n",
        "    image = Image.new('RGB', (width, height), color=(random.randint(0, 255), random.randint(0, 255), random.randint(0, 255)))\n",
        "    draw = ImageDraw.Draw(image)\n",
        "\n",
        "    for _ in range(random.randint(5, 15)):  # Add 5 to 15 shapes\n",
        "        shape_type = random.choice([\"circle\", \"rectangle\", \"line\"])\n",
        "        if shape_type == \"circle\":\n",
        "            x, y, r = random.randint(0, width), random.randint(0, height), random.randint(10, 30)\n",
        "            draw.ellipse((x-r, y-r, x+r, y+r), outline=\"black\", fill=(random.randint(0, 255), random.randint(0, 255), random.randint(0, 255)))\n",
        "        elif shape_type == \"rectangle\":\n",
        "            x1, y1 = random.randint(0, width), random.randint(0, height)\n",
        "            x2, y2 = random.randint(0, width), random.randint(0, height)\n",
        "            draw.rectangle((x1, y1, x2, y2), outline=\"black\", fill=(random.randint(0, 255), random.randint(0, 255), random.randint(0, 255)))\n",
        "        elif shape_type == \"line\":\n",
        "            x1, y1 = random.randint(0, width), random.randint(0, height)\n",
        "            x2, y2 = random.randint(0, width), random.randint(0, height)\n",
        "            draw.line((x1, y1, x2, y2), fill=(random.randint(0, 255), random.randint(0, 255), random.randint(0, 255)), width=2)\n",
        "\n",
        "    return image"
      ],
      "metadata": {
        "id": "qkO3QA4F1ylb"
      },
      "execution_count": null,
      "outputs": []
    },
    {
      "cell_type": "code",
      "source": [
        "# Generate and save more complex images\n",
        "num_images = 1000  # Increase the number of images\n",
        "image_list = []\n",
        "labels = []\n"
      ],
      "metadata": {
        "id": "rNG0eM8V1zl7"
      },
      "execution_count": null,
      "outputs": []
    },
    {
      "cell_type": "code",
      "source": [
        "\n",
        "for i in range(num_images):\n",
        "    if i % 2 == 0:  # Alternate between images with and without text\n",
        "        img = create_image_with_text()\n",
        "        path = os.path.join(text_dir, f\"text_{i}.png\")\n",
        "        img.save(path)\n",
        "        labels.append(\"text\")\n",
        "    else:\n",
        "        img = create_image_without_text()\n",
        "        path = os.path.join(no_text_dir, f\"no_text_{i}.png\")\n",
        "        img.save(path)\n",
        "        labels.append(\"no_text\")\n",
        "    image_list.append(path)"
      ],
      "metadata": {
        "id": "I5oNxino3lII"
      },
      "execution_count": null,
      "outputs": []
    },
    {
      "cell_type": "code",
      "source": [
        "\n",
        "# Create a dataframe for splitting\n",
        "import pandas as pd\n",
        "\n",
        "data = pd.DataFrame({\n",
        "    'image_path': image_list,\n",
        "    'label': labels\n",
        "})\n",
        "\n",
        "# Split data into train, validation, and test sets\n",
        "train_df, test_df = train_test_split(data, test_size=0.2, random_state=42, stratify=data['label'])\n",
        "val_df, test_df = train_test_split(test_df, test_size=0.5, random_state=42, stratify=test_df['label'])\n",
        "\n",
        "# Save data splits to text files\n",
        "def save_split_to_txt(df, filename):\n",
        "    with open(filename, 'w') as file:\n",
        "        for _, row in df.iterrows():\n",
        "            file.write(f\"{row['image_path']} {row['label']}\\n\")\n",
        "\n",
        "save_split_to_txt(train_df, '/content/drive/MyDrive/ImageData/train.txt')\n",
        "save_split_to_txt(val_df, '/content/drive/MyDrive/ImageData/val.txt')\n",
        "save_split_to_txt(test_df, '/content/drive/MyDrive/ImageData/test.txt')\n",
        "\n",
        "print(\"Data saved to text files and split into train, validation, and test sets.\")"
      ],
      "metadata": {
        "colab": {
          "base_uri": "https://localhost:8080/"
        },
        "id": "rFuwqmdt80ly",
        "outputId": "58ee3994-de32-4302-b81a-5e3d21d780fe"
      },
      "execution_count": null,
      "outputs": [
        {
          "output_type": "stream",
          "name": "stdout",
          "text": [
            "Data saved to text files and split into train, validation, and test sets.\n"
          ]
        }
      ]
    },
    {
      "cell_type": "code",
      "source": [
        "import pandas as pd\n",
        "import matplotlib.pyplot as plt\n",
        "\n",
        "# Load data from text files\n",
        "def load_data(filename):\n",
        "    data = pd.read_csv(filename, sep=' ', header=None, names=['image_path', 'label'])\n",
        "    return data\n",
        "\n",
        "# Paths to the text files\n",
        "train_file = '/content/drive/MyDrive/ImageData/train.txt'\n",
        "val_file = '/content/drive/MyDrive/ImageData/val.txt'\n",
        "test_file = '/content/drive/MyDrive/ImageData/test.txt'\n",
        "\n",
        "# Load datasets\n",
        "train_data = load_data(train_file)\n",
        "val_data = load_data(val_file)\n",
        "test_data = load_data(test_file)\n",
        "\n",
        "# Count class occurrences in each dataset\n",
        "def count_classes(data):\n",
        "    return data['label'].value_counts()\n",
        "\n",
        "train_class_counts = count_classes(train_data)\n",
        "# val_class_counts = count_classes(val_data)\n",
        "# test_class_counts = count_classes(test_data)\n",
        "\n",
        "# Create histograms\n",
        "def plot_class_distribution(class_counts, title):\n",
        "    plt.figure(figsize=(8, 6))\n",
        "    class_counts.plot(kind='bar', color=['skyblue', 'salmon'])\n",
        "    plt.title(title)\n",
        "    plt.xlabel('Class')\n",
        "    plt.ylabel('Number of Samples')\n",
        "    plt.xticks(rotation=0)\n",
        "    plt.grid(axis='y', linestyle='--', alpha=0.7)\n",
        "    plt.show()\n",
        "\n",
        "# Plot histograms\n",
        "plot_class_distribution(train_class_counts, 'Class Distribution in Training Set')\n",
        "# plot_class_distribution(val_class_counts, 'Class Distribution in Validation Set')\n",
        "# plot_class_distribution(test_class_counts, 'Class Distribution in Test Set')\n"
      ],
      "metadata": {
        "colab": {
          "base_uri": "https://localhost:8080/",
          "height": 564
        },
        "id": "loc0NMx89F1g",
        "outputId": "c1886e18-175c-422e-e376-c8b59c8bd3a7"
      },
      "execution_count": null,
      "outputs": [
        {
          "output_type": "display_data",
          "data": {
            "text/plain": [
              "<Figure size 800x600 with 1 Axes>"
            ],
            "image/png": "[encoded data removed]"
          },
          "metadata": {}
        }
      ]
    },
    {
      "cell_type": "code",
      "source": [
        "len(train_data)"
      ],
      "metadata": {
        "colab": {
          "base_uri": "https://localhost:8080/"
        },
        "id": "Lo6-NSxO9t6H",
        "outputId": "d6f93a04-3bc0-4191-ea71-16307e6a4a8f"
      },
      "execution_count": null,
      "outputs": [
        {
          "output_type": "execute_result",
          "data": {
            "text/plain": [
              "800"
            ]
          },
          "metadata": {},
          "execution_count": 9
        }
      ]
    },
    {
      "cell_type": "code",
      "source": [
        "train_data"
      ],
      "metadata": {
        "colab": {
          "base_uri": "https://localhost:8080/",
          "height": 424
        },
        "id": "nADoBcoh-FYN",
        "outputId": "9961af5d-90d5-4965-e114-e7b18f85d587"
      },
      "execution_count": null,
      "outputs": [
        {
          "output_type": "execute_result",
          "data": {
            "text/plain": [
              "                                            image_path    label\n",
              "0    /content/drive/MyDrive/ImageData/text/text_718...     text\n",
              "1    /content/drive/MyDrive/ImageData/no_text/no_te...  no_text\n",
              "2    /content/drive/MyDrive/ImageData/text/text_518...     text\n",
              "3    /content/drive/MyDrive/ImageData/no_text/no_te...  no_text\n",
              "4    /content/drive/MyDrive/ImageData/text/text_588...     text\n",
              "..                                                 ...      ...\n",
              "795  /content/drive/MyDrive/ImageData/no_text/no_te...  no_text\n",
              "796  /content/drive/MyDrive/ImageData/text/text_912...     text\n",
              "797  /content/drive/MyDrive/ImageData/text/text_286...     text\n",
              "798  /content/drive/MyDrive/ImageData/no_text/no_te...  no_text\n",
              "799  /content/drive/MyDrive/ImageData/text/text_474...     text\n",
              "\n",
              "[800 rows x 2 columns]"
            ],
            "text/html": [
              "\n",
              "  <div id=\"df-297c9fed-8d7a-4a3e-a9bb-20be517543e9\" class=\"colab-df-container\">\n",
              "    <div>\n",
              "<style scoped>\n",
              "    .dataframe tbody tr th:only-of-type {\n",
              "        vertical-align: middle;\n",
              "    }\n",
              "\n",
              "    .dataframe tbody tr th {\n",
              "        vertical-align: top;\n",
              "    }\n",
              "\n",
              "    .dataframe thead th {\n",
              "        text-align: right;\n",
              "    }\n",
              "</style>\n",
              "<table border=\"1\" class=\"dataframe\">\n",
              "  <thead>\n",
              "    <tr style=\"text-align: right;\">\n",
              "      <th></th>\n",
              "      <th>image_path</th>\n",
              "      <th>label</th>\n",
              "    </tr>\n",
              "  </thead>\n",
              "  <tbody>\n",
              "    <tr>\n",
              "      <th>0</th>\n",
              "      <td>/content/drive/MyDrive/ImageData/text/text_718...</td>\n",
              "      <td>text</td>\n",
              "    </tr>\n",
              "    <tr>\n",
              "      <th>1</th>\n",
              "      <td>/content/drive/MyDrive/ImageData/no_text/no_te...</td>\n",
              "      <td>no_text</td>\n",
              "    </tr>\n",
              "    <tr>\n",
              "      <th>2</th>\n",
              "      <td>/content/drive/MyDrive/ImageData/text/text_518...</td>\n",
              "      <td>text</td>\n",
              "    </tr>\n",
              "    <tr>\n",
              "      <th>3</th>\n",
              "      <td>/content/drive/MyDrive/ImageData/no_text/no_te...</td>\n",
              "      <td>no_text</td>\n",
              "    </tr>\n",
              "    <tr>\n",
              "      <th>4</th>\n",
              "      <td>/content/drive/MyDrive/ImageData/text/text_588...</td>\n",
              "      <td>text</td>\n",
              "    </tr>\n",
              "    <tr>\n",
              "      <th>...</th>\n",
              "      <td>...</td>\n",
              "      <td>...</td>\n",
              "    </tr>\n",
              "    <tr>\n",
              "      <th>795</th>\n",
              "      <td>/content/drive/MyDrive/ImageData/no_text/no_te...</td>\n",
              "      <td>no_text</td>\n",
              "    </tr>\n",
              "    <tr>\n",
              "      <th>796</th>\n",
              "      <td>/content/drive/MyDrive/ImageData/text/text_912...</td>\n",
              "      <td>text</td>\n",
              "    </tr>\n",
              "    <tr>\n",
              "      <th>797</th>\n",
              "      <td>/content/drive/MyDrive/ImageData/text/text_286...</td>\n",
              "      <td>text</td>\n",
              "    </tr>\n",
              "    <tr>\n",
              "      <th>798</th>\n",
              "      <td>/content/drive/MyDrive/ImageData/no_text/no_te...</td>\n",
              "      <td>no_text</td>\n",
              "    </tr>\n",
              "    <tr>\n",
              "      <th>799</th>\n",
              "      <td>/content/drive/MyDrive/ImageData/text/text_474...</td>\n",
              "      <td>text</td>\n",
              "    </tr>\n",
              "  </tbody>\n",
              "</table>\n",
              "<p>800 rows × 2 columns</p>\n",
              "</div>\n",
              "    <div class=\"colab-df-buttons\">\n",
              "\n",
              "  <div class=\"colab-df-container\">\n",
              "    <button class=\"colab-df-convert\" onclick=\"convertToInteractive('df-297c9fed-8d7a-4a3e-a9bb-20be517543e9')\"\n",
              "            title=\"Convert this dataframe to an interactive table.\"\n",
              "            style=\"display:none;\">\n",
              "\n",
              "  <svg xmlns=\"http://www.w3.org/2000/svg\" height=\"24px\" viewBox=\"0 -960 960 960\">\n",
              "    <path d=\"M120-120v-720h720v720H120Zm60-500h600v-160H180v160Zm220 220h160v-160H400v160Zm0 220h160v-160H400v160ZM180-400h160v-160H180v160Zm440 0h160v-160H620v160ZM180-180h160v-160H180v160Zm440 0h160v-160H620v160Z\"/>\n",
              "  </svg>\n",
              "    </button>\n",
              "\n",
              "  <style>\n",
              "    .colab-df-container {\n",
              "      display:flex;\n",
              "      gap: 12px;\n",
              "    }\n",
              "\n",
              "    .colab-df-convert {\n",
              "      background-color: #E8F0FE;\n",
              "      border: none;\n",
              "      border-radius: 50%;\n",
              "      cursor: pointer;\n",
              "      display: none;\n",
              "      fill: #1967D2;\n",
              "      height: 32px;\n",
              "      padding: 0 0 0 0;\n",
              "      width: 32px;\n",
              "    }\n",
              "\n",
              "    .colab-df-convert:hover {\n",
              "      background-color: #E2EBFA;\n",
              "      box-shadow: 0px 1px 2px rgba(60, 64, 67, 0.3), 0px 1px 3px 1px rgba(60, 64, 67, 0.15);\n",
              "      fill: #174EA6;\n",
              "    }\n",
              "\n",
              "    .colab-df-buttons div {\n",
              "      margin-bottom: 4px;\n",
              "    }\n",
              "\n",
              "    [theme=dark] .colab-df-convert {\n",
              "      background-color: #3B4455;\n",
              "      fill: #D2E3FC;\n",
              "    }\n",
              "\n",
              "    [theme=dark] .colab-df-convert:hover {\n",
              "      background-color: #434B5C;\n",
              "      box-shadow: 0px 1px 3px 1px rgba(0, 0, 0, 0.15);\n",
              "      filter: drop-shadow(0px 1px 2px rgba(0, 0, 0, 0.3));\n",
              "      fill: #FFFFFF;\n",
              "    }\n",
              "  </style>\n",
              "\n",
              "    <script>\n",
              "      const buttonEl =\n",
              "        document.querySelector('#df-297c9fed-8d7a-4a3e-a9bb-20be517543e9 button.colab-df-convert');\n",
              "      buttonEl.style.display =\n",
              "        google.colab.kernel.accessAllowed ? 'block' : 'none';\n",
              "\n",
              "      async function convertToInteractive(key) {\n",
              "        const element = document.querySelector('#df-297c9fed-8d7a-4a3e-a9bb-20be517543e9');\n",
              "        const dataTable =\n",
              "          await google.colab.kernel.invokeFunction('convertToInteractive',\n",
              "                                                    [key], {});\n",
              "        if (!dataTable) return;\n",
              "\n",
              "        const docLinkHtml = 'Like what you see? Visit the ' +\n",
              "          '<a target=\"_blank\" href=https://colab.research.google.com/notebooks/data_table.ipynb>data table notebook</a>'\n",
              "          + ' to learn more about interactive tables.';\n",
              "        element.innerHTML = '';\n",
              "        dataTable['output_type'] = 'display_data';\n",
              "        await google.colab.output.renderOutput(dataTable, element);\n",
              "        const docLink = document.createElement('div');\n",
              "        docLink.innerHTML = docLinkHtml;\n",
              "        element.appendChild(docLink);\n",
              "      }\n",
              "    </script>\n",
              "  </div>\n",
              "\n",
              "\n",
              "<div id=\"df-33a37ce0-0713-4cc4-9560-f2d6701fb337\">\n",
              "  <button class=\"colab-df-quickchart\" onclick=\"quickchart('df-33a37ce0-0713-4cc4-9560-f2d6701fb337')\"\n",
              "            title=\"Suggest charts\"\n",
              "            style=\"display:none;\">\n",
              "\n",
              "<svg xmlns=\"http://www.w3.org/2000/svg\" height=\"24px\"viewBox=\"0 0 24 24\"\n",
              "     width=\"24px\">\n",
              "    <g>\n",
              "        <path d=\"M19 3H5c-1.1 0-2 .9-2 2v14c0 1.1.9 2 2 2h14c1.1 0 2-.9 2-2V5c0-1.1-.9-2-2-2zM9 17H7v-7h2v7zm4 0h-2V7h2v10zm4 0h-2v-4h2v4z\"/>\n",
              "    </g>\n",
              "</svg>\n",
              "  </button>\n",
              "\n",
              "<style>\n",
              "  .colab-df-quickchart {\n",
              "      --bg-color: #E8F0FE;\n",
              "      --fill-color: #1967D2;\n",
              "      --hover-bg-color: #E2EBFA;\n",
              "      --hover-fill-color: #174EA6;\n",
              "      --disabled-fill-color: #AAA;\n",
              "      --disabled-bg-color: #DDD;\n",
              "  }\n",
              "\n",
              "  [theme=dark] .colab-df-quickchart {\n",
              "      --bg-color: #3B4455;\n",
              "      --fill-color: #D2E3FC;\n",
              "      --hover-bg-color: #434B5C;\n",
              "      --hover-fill-color: #FFFFFF;\n",
              "      --disabled-bg-color: #3B4455;\n",
              "      --disabled-fill-color: #666;\n",
              "  }\n",
              "\n",
              "  .colab-df-quickchart {\n",
              "    background-color: var(--bg-color);\n",
              "    border: none;\n",
              "    border-radius: 50%;\n",
              "    cursor: pointer;\n",
              "    display: none;\n",
              "    fill: var(--fill-color);\n",
              "    height: 32px;\n",
              "    padding: 0;\n",
              "    width: 32px;\n",
              "  }\n",
              "\n",
              "  .colab-df-quickchart:hover {\n",
              "    background-color: var(--hover-bg-color);\n",
              "    box-shadow: 0 1px 2px rgba(60, 64, 67, 0.3), 0 1px 3px 1px rgba(60, 64, 67, 0.15);\n",
              "    fill: var(--button-hover-fill-color);\n",
              "  }\n",
              "\n",
              "  .colab-df-quickchart-complete:disabled,\n",
              "  .colab-df-quickchart-complete:disabled:hover {\n",
              "    background-color: var(--disabled-bg-color);\n",
              "    fill: var(--disabled-fill-color);\n",
              "    box-shadow: none;\n",
              "  }\n",
              "\n",
              "  .colab-df-spinner {\n",
              "    border: 2px solid var(--fill-color);\n",
              "    border-color: transparent;\n",
              "    border-bottom-color: var(--fill-color);\n",
              "    animation:\n",
              "      spin 1s steps(1) infinite;\n",
              "  }\n",
              "\n",
              "  @keyframes spin {\n",
              "    0% {\n",
              "      border-color: transparent;\n",
              "      border-bottom-color: var(--fill-color);\n",
              "      border-left-color: var(--fill-color);\n",
              "    }\n",
              "    20% {\n",
              "      border-color: transparent;\n",
              "      border-left-color: var(--fill-color);\n",
              "      border-top-color: var(--fill-color);\n",
              "    }\n",
              "    30% {\n",
              "      border-color: transparent;\n",
              "      border-left-color: var(--fill-color);\n",
              "      border-top-color: var(--fill-color);\n",
              "      border-right-color: var(--fill-color);\n",
              "    }\n",
              "    40% {\n",
              "      border-color: transparent;\n",
              "      border-right-color: var(--fill-color);\n",
              "      border-top-color: var(--fill-color);\n",
              "    }\n",
              "    60% {\n",
              "      border-color: transparent;\n",
              "      border-right-color: var(--fill-color);\n",
              "    }\n",
              "    80% {\n",
              "      border-color: transparent;\n",
              "      border-right-color: var(--fill-color);\n",
              "      border-bottom-color: var(--fill-color);\n",
              "    }\n",
              "    90% {\n",
              "      border-color: transparent;\n",
              "      border-bottom-color: var(--fill-color);\n",
              "    }\n",
              "  }\n",
              "</style>\n",
              "\n",
              "  <script>\n",
              "    async function quickchart(key) {\n",
              "      const quickchartButtonEl =\n",
              "        document.querySelector('#' + key + ' button');\n",
              "      quickchartButtonEl.disabled = true;  // To prevent multiple clicks.\n",
              "      quickchartButtonEl.classList.add('colab-df-spinner');\n",
              "      try {\n",
              "        const charts = await google.colab.kernel.invokeFunction(\n",
              "            'suggestCharts', [key], {});\n",
              "      } catch (error) {\n",
              "        console.error('Error during call to suggestCharts:', error);\n",
              "      }\n",
              "      quickchartButtonEl.classList.remove('colab-df-spinner');\n",
              "      quickchartButtonEl.classList.add('colab-df-quickchart-complete');\n",
              "    }\n",
              "    (() => {\n",
              "      let quickchartButtonEl =\n",
              "        document.querySelector('#df-33a37ce0-0713-4cc4-9560-f2d6701fb337 button');\n",
              "      quickchartButtonEl.style.display =\n",
              "        google.colab.kernel.accessAllowed ? 'block' : 'none';\n",
              "    })();\n",
              "  </script>\n",
              "</div>\n",
              "\n",
              "  <div id=\"id_e46fb608-9136-40be-8bb3-54387d6fa4cc\">\n",
              "    <style>\n",
              "      .colab-df-generate {\n",
              "        background-color: #E8F0FE;\n",
              "        border: none;\n",
              "        border-radius: 50%;\n",
              "        cursor: pointer;\n",
              "        display: none;\n",
              "        fill: #1967D2;\n",
              "        height: 32px;\n",
              "        padding: 0 0 0 0;\n",
              "        width: 32px;\n",
              "      }\n",
              "\n",
              "      .colab-df-generate:hover {\n",
              "        background-color: #E2EBFA;\n",
              "        box-shadow: 0px 1px 2px rgba(60, 64, 67, 0.3), 0px 1px 3px 1px rgba(60, 64, 67, 0.15);\n",
              "        fill: #174EA6;\n",
              "      }\n",
              "\n",
              "      [theme=dark] .colab-df-generate {\n",
              "        background-color: #3B4455;\n",
              "        fill: #D2E3FC;\n",
              "      }\n",
              "\n",
              "      [theme=dark] .colab-df-generate:hover {\n",
              "        background-color: #434B5C;\n",
              "        box-shadow: 0px 1px 3px 1px rgba(0, 0, 0, 0.15);\n",
              "        filter: drop-shadow(0px 1px 2px rgba(0, 0, 0, 0.3));\n",
              "        fill: #FFFFFF;\n",
              "      }\n",
              "    </style>\n",
              "    <button class=\"colab-df-generate\" onclick=\"generateWithVariable('train_data')\"\n",
              "            title=\"Generate code using this dataframe.\"\n",
              "            style=\"display:none;\">\n",
              "\n",
              "  <svg xmlns=\"http://www.w3.org/2000/svg\" height=\"24px\"viewBox=\"0 0 24 24\"\n",
              "       width=\"24px\">\n",
              "    <path d=\"M7,19H8.4L18.45,9,17,7.55,7,17.6ZM5,21V16.75L18.45,3.32a2,2,0,0,1,2.83,0l1.4,1.43a1.91,1.91,0,0,1,.58,1.4,1.91,1.91,0,0,1-.58,1.4L9.25,21ZM18.45,9,17,7.55Zm-12,3A5.31,5.31,0,0,0,4.9,8.1,5.31,5.31,0,0,0,1,6.5,5.31,5.31,0,0,0,4.9,4.9,5.31,5.31,0,0,0,6.5,1,5.31,5.31,0,0,0,8.1,4.9,5.31,5.31,0,0,0,12,6.5,5.46,5.46,0,0,0,6.5,12Z\"/>\n",
              "  </svg>\n",
              "    </button>\n",
              "    <script>\n",
              "      (() => {\n",
              "      const buttonEl =\n",
              "        document.querySelector('#id_e46fb608-9136-40be-8bb3-54387d6fa4cc button.colab-df-generate');\n",
              "      buttonEl.style.display =\n",
              "        google.colab.kernel.accessAllowed ? 'block' : 'none';\n",
              "\n",
              "      buttonEl.onclick = () => {\n",
              "        google.colab.notebook.generateWithVariable('train_data');\n",
              "      }\n",
              "      })();\n",
              "    </script>\n",
              "  </div>\n",
              "\n",
              "    </div>\n",
              "  </div>\n"
            ],
            "application/vnd.google.colaboratory.intrinsic+json": {
              "type": "dataframe",
              "variable_name": "train_data",
              "summary": "{\n  \"name\": \"train_data\",\n  \"rows\": 800,\n  \"fields\": [\n    {\n      \"column\": \"image_path\",\n      \"properties\": {\n        \"dtype\": \"string\",\n        \"num_unique_values\": 800,\n        \"samples\": [\n          \"/content/drive/MyDrive/ImageData/no_text/no_text_497.png\",\n          \"/content/drive/MyDrive/ImageData/no_text/no_text_83.png\",\n          \"/content/drive/MyDrive/ImageData/text/text_848.png\"\n        ],\n        \"semantic_type\": \"\",\n        \"description\": \"\"\n      }\n    },\n    {\n      \"column\": \"label\",\n      \"properties\": {\n        \"dtype\": \"category\",\n        \"num_unique_values\": 2,\n        \"samples\": [\n          \"no_text\",\n          \"text\"\n        ],\n        \"semantic_type\": \"\",\n        \"description\": \"\"\n      }\n    }\n  ]\n}"
            }
          },
          "metadata": {},
          "execution_count": 10
        }
      ]
    },
    {
      "cell_type": "code",
      "source": [
        "import os\n",
        "import pandas as pd\n",
        "from PIL import Image\n",
        "import numpy as np\n",
        "from sklearn.linear_model import LogisticRegression\n",
        "from sklearn.metrics import accuracy_score, classification_report\n",
        "from sklearn.model_selection import train_test_split\n",
        "import torchvision.transforms as transforms\n",
        "from tqdm import tqdm"
      ],
      "metadata": {
        "id": "1fz3vFBj-odx"
      },
      "execution_count": null,
      "outputs": []
    },
    {
      "cell_type": "code",
      "source": [
        "# Define paths\n",
        "train_file = '/content/drive/MyDrive/ImageData/train.txt'\n",
        "val_file = '/content/drive/MyDrive/ImageData/val.txt'\n",
        "test_file = '/content/drive/MyDrive/ImageData/test.txt'\n",
        "# Load data\n",
        "def load_data(file_path):\n",
        "    data = pd.read_csv(file_path, sep=\" \", header=None, names=[\"img_path\", \"label\"])\n",
        "    data['label'] = data['label'].apply(lambda x: 1 if x == \"text\" else 0)\n",
        "    return data\n",
        "train_data = load_data(train_file)\n",
        "val_data = load_data(val_file)\n",
        "test_data = load_data(test_file)"
      ],
      "metadata": {
        "id": "SW7S7zAqbKY4"
      },
      "execution_count": null,
      "outputs": []
    },
    {
      "cell_type": "code",
      "source": [
        "# Transform to preprocess the images\n",
        "transform = transforms.Compose([\n",
        "    transforms.Resize((128, 128)),\n",
        "    transforms.ToTensor()\n",
        "])"
      ],
      "metadata": {
        "id": "zqB4xD_obUjp"
      },
      "execution_count": null,
      "outputs": []
    },
    {
      "cell_type": "code",
      "source": [
        "# Function to load and preprocess images\n",
        "def load_and_preprocess_images(data, transform):\n",
        "    images = []\n",
        "    labels = []\n",
        "    for _, row in tqdm(data.iterrows(), total=len(data)):\n",
        "        img_path = row['img_path']\n",
        "        label = row['label']\n",
        "        image = Image.open(img_path).convert(\"RGB\")\n",
        "        image = transform(image)\n",
        "        image = np.array(image).flatten()  # Flatten the image\n",
        "        images.append(image)\n",
        "        labels.append(label)\n",
        "    return np.array(images), np.array(labels)"
      ],
      "metadata": {
        "id": "pVOmeZ9D-HdF"
      },
      "execution_count": null,
      "outputs": []
    },
    {
      "cell_type": "code",
      "source": [
        "# Load and preprocess the images\n",
        "X_train, y_train = load_and_preprocess_images(train_data, transform)\n",
        "X_val, y_val = load_and_preprocess_images(val_data, transform)\n",
        "X_test, y_test = load_and_preprocess_images(test_data, transform)\n",
        "\n",
        "# Train logistic regression model\n",
        "clf = LogisticRegression(max_iter=1000)\n",
        "clf.fit(X_train, y_train)\n",
        "\n"
      ],
      "metadata": {
        "colab": {
          "base_uri": "https://localhost:8080/",
          "height": 127
        },
        "id": "qZQTADXXbfDg",
        "outputId": "49866668-5308-4745-bea1-2f9cdbde934e"
      },
      "execution_count": null,
      "outputs": [
        {
          "output_type": "stream",
          "name": "stderr",
          "text": [
            "100%|██████████| 800/800 [00:09<00:00, 85.50it/s]\n",
            "100%|██████████| 100/100 [00:00<00:00, 144.04it/s]\n",
            "100%|██████████| 100/100 [00:00<00:00, 106.30it/s]\n"
          ]
        },
        {
          "output_type": "execute_result",
          "data": {
            "text/plain": [
              "LogisticRegression(max_iter=1000)"
            ],
            "text/html": [
              "<style>#sk-container-id-1 {color: black;}#sk-container-id-1 pre{padding: 0;}#sk-container-id-1 div.sk-toggleable {background-color: white;}#sk-container-id-1 label.sk-toggleable__label {cursor: pointer;display: block;width: 100%;margin-bottom: 0;padding: 0.3em;box-sizing: border-box;text-align: center;}#sk-container-id-1 label.sk-toggleable__label-arrow:before {content: \"▸\";float: left;margin-right: 0.25em;color: #696969;}#sk-container-id-1 label.sk-toggleable__label-arrow:hover:before {color: black;}#sk-container-id-1 div.sk-estimator:hover label.sk-toggleable__label-arrow:before {color: black;}#sk-container-id-1 div.sk-toggleable__content {max-height: 0;max-width: 0;overflow: hidden;text-align: left;background-color: #f0f8ff;}#sk-container-id-1 div.sk-toggleable__content pre {margin: 0.2em;color: black;border-radius: 0.25em;background-color: #f0f8ff;}#sk-container-id-1 input.sk-toggleable__control:checked~div.sk-toggleable__content {max-height: 200px;max-width: 100%;overflow: auto;}#sk-container-id-1 input.sk-toggleable__control:checked~label.sk-toggleable__label-arrow:before {content: \"▾\";}#sk-container-id-1 div.sk-estimator input.sk-toggleable__control:checked~label.sk-toggleable__label {background-color: #d4ebff;}#sk-container-id-1 div.sk-label input.sk-toggleable__control:checked~label.sk-toggleable__label {background-color: #d4ebff;}#sk-container-id-1 input.sk-hidden--visually {border: 0;clip: rect(1px 1px 1px 1px);clip: rect(1px, 1px, 1px, 1px);height: 1px;margin: -1px;overflow: hidden;padding: 0;position: absolute;width: 1px;}#sk-container-id-1 div.sk-estimator {font-family: monospace;background-color: #f0f8ff;border: 1px dotted black;border-radius: 0.25em;box-sizing: border-box;margin-bottom: 0.5em;}#sk-container-id-1 div.sk-estimator:hover {background-color: #d4ebff;}#sk-container-id-1 div.sk-parallel-item::after {content: \"\";width: 100%;border-bottom: 1px solid gray;flex-grow: 1;}#sk-container-id-1 div.sk-label:hover label.sk-toggleable__label {background-color: #d4ebff;}#sk-container-id-1 div.sk-serial::before {content: \"\";position: absolute;border-left: 1px solid gray;box-sizing: border-box;top: 0;bottom: 0;left: 50%;z-index: 0;}#sk-container-id-1 div.sk-serial {display: flex;flex-direction: column;align-items: center;background-color: white;padding-right: 0.2em;padding-left: 0.2em;position: relative;}#sk-container-id-1 div.sk-item {position: relative;z-index: 1;}#sk-container-id-1 div.sk-parallel {display: flex;align-items: stretch;justify-content: center;background-color: white;position: relative;}#sk-container-id-1 div.sk-item::before, #sk-container-id-1 div.sk-parallel-item::before {content: \"\";position: absolute;border-left: 1px solid gray;box-sizing: border-box;top: 0;bottom: 0;left: 50%;z-index: -1;}#sk-container-id-1 div.sk-parallel-item {display: flex;flex-direction: column;z-index: 1;position: relative;background-color: white;}#sk-container-id-1 div.sk-parallel-item:first-child::after {align-self: flex-end;width: 50%;}#sk-container-id-1 div.sk-parallel-item:last-child::after {align-self: flex-start;width: 50%;}#sk-container-id-1 div.sk-parallel-item:only-child::after {width: 0;}#sk-container-id-1 div.sk-dashed-wrapped {border: 1px dashed gray;margin: 0 0.4em 0.5em 0.4em;box-sizing: border-box;padding-bottom: 0.4em;background-color: white;}#sk-container-id-1 div.sk-label label {font-family: monospace;font-weight: bold;display: inline-block;line-height: 1.2em;}#sk-container-id-1 div.sk-label-container {text-align: center;}#sk-container-id-1 div.sk-container {/* jupyter's `normalize.less` sets `[hidden] { display: none; }` but bootstrap.min.css set `[hidden] { display: none !important; }` so we also need the `!important` here to be able to override the default hidden behavior on the sphinx rendered scikit-learn.org. See: https://github.com/scikit-learn/scikit-learn/issues/21755 */display: inline-block !important;position: relative;}#sk-container-id-1 div.sk-text-repr-fallback {display: none;}</style><div id=\"sk-container-id-1\" class=\"sk-top-container\"><div class=\"sk-text-repr-fallback\"><pre>LogisticRegression(max_iter=1000)</pre><b>In a Jupyter environment, please rerun this cell to show the HTML representation or trust the notebook. <br />On GitHub, the HTML representation is unable to render, please try loading this page with nbviewer.org.</b></div><div class=\"sk-container\" hidden><div class=\"sk-item\"><div class=\"sk-estimator sk-toggleable\"><input class=\"sk-toggleable__control sk-hidden--visually\" id=\"sk-estimator-id-1\" type=\"checkbox\" checked><label for=\"sk-estimator-id-1\" class=\"sk-toggleable__label sk-toggleable__label-arrow\">LogisticRegression</label><div class=\"sk-toggleable__content\"><pre>LogisticRegression(max_iter=1000)</pre></div></div></div></div></div>"
            ]
          },
          "metadata": {},
          "execution_count": 15
        }
      ]
    },
    {
      "cell_type": "code",
      "source": [
        "len(X_train)"
      ],
      "metadata": {
        "colab": {
          "base_uri": "https://localhost:8080/"
        },
        "id": "oxqdM60vcr2h",
        "outputId": "d4634b84-38a6-45c7-b875-85b548760e9c"
      },
      "execution_count": null,
      "outputs": [
        {
          "output_type": "execute_result",
          "data": {
            "text/plain": [
              "800"
            ]
          },
          "metadata": {},
          "execution_count": 16
        }
      ]
    },
    {
      "cell_type": "code",
      "source": [
        "# Evaluate the model\n",
        "y_pred_train = clf.predict(X_train)\n",
        "y_pred_val = clf.predict(X_val)\n",
        "y_pred_test = clf.predict(X_test)\n",
        "\n",
        "# Print accuracy and classification report\n",
        "print(\"Train Accuracy: \", accuracy_score(y_train, y_pred_train))\n",
        "print(\"Validation Accuracy: \", accuracy_score(y_val, y_pred_val))\n",
        "print(\"Test Accuracy: \", accuracy_score(y_test, y_pred_test))\n",
        "\n",
        "print(\"Classification Report (Test):\")\n",
        "print(classification_report(y_test, y_pred_test))"
      ],
      "metadata": {
        "colab": {
          "base_uri": "https://localhost:8080/"
        },
        "id": "Ao2mctKAbhr2",
        "outputId": "fbbb2897-f38f-4c5a-bf45-a05600746369"
      },
      "execution_count": null,
      "outputs": [
        {
          "output_type": "stream",
          "name": "stdout",
          "text": [
            "Train Accuracy:  1.0\n",
            "Validation Accuracy:  0.58\n",
            "Test Accuracy:  0.6\n",
            "Classification Report (Test):\n",
            "              precision    recall  f1-score   support\n",
            "\n",
            "           0       1.00      0.20      0.33        50\n",
            "           1       0.56      1.00      0.71        50\n",
            "\n",
            "    accuracy                           0.60       100\n",
            "   macro avg       0.78      0.60      0.52       100\n",
            "weighted avg       0.78      0.60      0.52       100\n",
            "\n"
          ]
        }
      ]
    },
    {
      "cell_type": "code",
      "source": [
        "import numpy as np\n",
        "import pandas as pd\n",
        "\n",
        "# Placeholder for the model's prediction function\n",
        "def model_predict(input_data):\n",
        "    # Replace with your actual model's prediction function\n",
        "    return np.random.choice([0, 1], size=len(input_data))\n",
        "\n",
        "# Function to evaluate functional correctness\n",
        "def functional_testing(model, test_data, true_labels):\n",
        "    predictions = model_predict(test_data)\n",
        "    accuracy = np.mean(predictions == true_labels)\n",
        "    print(f\"Functional Testing: Accuracy = {accuracy:.2f}\")\n",
        "    return accuracy\n",
        "\n",
        "# Function to check for biases and ethical concerns\n",
        "def responsibility_testing(model, test_data, sensitive_features):\n",
        "    predictions = model_predict(test_data)\n",
        "\n",
        "    # Example: Check for gender bias\n",
        "    bias_results = {}\n",
        "    for feature in sensitive_features:\n",
        "        unique_values = test_data[feature].unique()\n",
        "        bias_results[feature] = {}\n",
        "\n",
        "        for value in unique_values:\n",
        "            subset = test_data[test_data[feature] == value]\n",
        "            subset_predictions = model_predict(subset)\n",
        "            bias_results[feature][value] = np.mean(subset_predictions)\n",
        "\n",
        "    print(\"Responsibility Testing: Bias Results\")\n",
        "    for feature, results in bias_results.items():\n",
        "        print(f\"Feature: {feature}\")\n",
        "        for value, bias_score in results.items():\n",
        "            print(f\"  Value: {value} - Bias Score: {bias_score:.2f}\")\n",
        "\n",
        "    return bias_results\n",
        "\n",
        "# Placeholder test data and labels\n",
        "data = {\n",
        "    'feature1': np.random.rand(100),\n",
        "    'feature2': np.random.rand(100),\n",
        "    'gender': np.random.choice(['male', 'female'], size=100),\n",
        "    'age': np.random.choice(['young', 'middle', 'old'], size=100)\n",
        "}\n",
        "test_data = pd.DataFrame(data)\n",
        "true_labels = np.random.choice([0, 1], size=100)  # Replace with your actual labels\n",
        "sensitive_features = ['gender', 'age']  # Replace with your actual sensitive features\n",
        "\n",
        "# Perform functional testing\n",
        "functional_accuracy = functional_testing(model_predict, test_data, true_labels)\n",
        "\n",
        "# Perform responsibility testing\n",
        "bias_results = responsibility_testing(model_predict, test_data, sensitive_features)\n"
      ],
      "metadata": {
        "id": "nO7pUr4Pbqb-",
        "colab": {
          "base_uri": "https://localhost:8080/"
        },
        "outputId": "8e677dd4-99c7-4b94-e255-5a3a30f43e23"
      },
      "execution_count": null,
      "outputs": [
        {
          "output_type": "stream",
          "name": "stdout",
          "text": [
            "Functional Testing: Accuracy = 0.50\n",
            "Responsibility Testing: Bias Results\n",
            "Feature: gender\n",
            "  Value: female - Bias Score: 0.48\n",
            "  Value: male - Bias Score: 0.44\n",
            "Feature: age\n",
            "  Value: old - Bias Score: 0.44\n",
            "  Value: middle - Bias Score: 0.44\n",
            "  Value: young - Bias Score: 0.50\n"
          ]
        }
      ]
    }
  ]
}
